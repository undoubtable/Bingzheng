{
 "cells": [
  {
   "cell_type": "code",
   "execution_count": 9,
   "id": "25e89541",
   "metadata": {},
   "outputs": [
    {
     "name": "stdout",
     "output_type": "stream",
     "text": [
      "精确模式分词结果： ['自然语言', '处理', '是', '人工智能', '的', '重要', '方向']\n",
      "自然语言/处理/是/人工智能/的/重要/方向\n"
     ]
    }
   ],
   "source": [
    "# 基础分词示例（中文）\n",
    "import jieba\n",
    "text = \"自然语言处理是人工智能的重要方向\" \n",
    "words = list(jieba.cut(text)) # 精确模式（默认）\n",
    "print(\"精确模式分词结果：\", words) \n",
    "print(\"/\".join(words)) "
   ]
  },
  {
   "cell_type": "code",
   "execution_count": 10,
   "id": "caefb8ae",
   "metadata": {},
   "outputs": [
    {
     "name": "stdout",
     "output_type": "stream",
     "text": [
      "精确模式分词结果： ['有', '勇气', '的', '牛排', '是', '一个', '编程', '领域', '博主', '的', '名字']\n",
      "有/勇气/的/牛排/是/一个/编程/领域/博主/的/名字\n"
     ]
    }
   ],
   "source": [
    "# 精确模式分词示例（中文）\n",
    "text = \"有勇气的牛排是一个编程领域博主的名字\"\n",
    "segments = list(jieba.cut(text))  # 指定精确模式（默认），将生成器转为列表\n",
    "print(\"精确模式分词结果：\", segments)\n",
    "print(\"/\".join(segments))"
   ]
  },
  {
   "cell_type": "code",
   "execution_count": 11,
   "id": "e90dd949",
   "metadata": {},
   "outputs": [
    {
     "name": "stdout",
     "output_type": "stream",
     "text": [
      "全模式分词结果： ['有', '勇气', '的', '牛排', '是', '一个', '编程', '领域', '博', '主', '的', '名字']\n",
      "有/勇气/的/牛排/是/一个/编程/领域/博/主/的/名字\n"
     ]
    }
   ],
   "source": [
    "# 全模式分词示例（中文）\n",
    "segments = jieba.lcut(text, cut_all=True)\n",
    "print(\"全模式分词结果：\", segments)\n",
    "print(\"/\".join(segments))"
   ]
  },
  {
   "cell_type": "code",
   "execution_count": 12,
   "id": "b74b29f8",
   "metadata": {},
   "outputs": [
    {
     "name": "stdout",
     "output_type": "stream",
     "text": [
      "搜索引擎模式分词结果： ['有', '勇气', '的', '牛排', '是', '一个', '编程', '领域', '博主', '的', '名字']\n",
      "有/勇气/的/牛排/是/一个/编程/领域/博主/的/名字\n"
     ]
    }
   ],
   "source": [
    "# 搜索引擎模式分词示例（中文）\n",
    "segments = jieba.lcut_for_search(text)\n",
    "print(\"搜索引擎模式分词结果：\", segments)\n",
    "print(\"/\".join(segments))"
   ]
  },
  {
   "cell_type": "code",
   "execution_count": 13,
   "id": "e366489b",
   "metadata": {},
   "outputs": [
    {
     "name": "stdout",
     "output_type": "stream",
     "text": [
      "新冠抗原检测/技术/推动/量子计算/发展\n"
     ]
    }
   ],
   "source": [
    "jieba.load_userdict(\"custom_dict.txt\") \n",
    "text = \"新冠抗原检测技术推动量子计算发展\" \n",
    "print(\"/\".join(jieba.cut(text))) "
   ]
  },
  {
   "cell_type": "code",
   "execution_count": null,
   "id": "f1363fd6",
   "metadata": {},
   "outputs": [
    {
     "name": "stdout",
     "output_type": "stream",
     "text": [
      "['机器翻译', '自然语言', '技术']\n"
     ]
    }
   ],
   "source": [
    "# 关键词提取示例（中文）\n",
    "from jieba import analyse\n",
    "\n",
    "# 启用 TF-IDF 算法\n",
    "analyse.set_stop_words(\"stopwords.txt\")  # 加载停用词（如“的”“是”）\n",
    "text = \"自然语言处理技术是一门好技术，它显著提升了机器翻译的准确性\"\n",
    "keywords = analyse.extract_tags(text, topK=3)  # 提取前3个关键词\n",
    "\n",
    "print(keywords)"
   ]
  },
  {
   "cell_type": "code",
   "execution_count": 5,
   "id": "d508ef28",
   "metadata": {},
   "outputs": [
    {
     "name": "stdout",
     "output_type": "stream",
     "text": [
      "中国人民银行/宣布/下调/存款/准备金率\n"
     ]
    }
   ],
   "source": [
    "import jieba\n",
    "\n",
    "title = \"中国人民银行宣布下调存款准备金率\"\n",
    "words = jieba.cut(title)\n",
    "print(\"/\".join(words))"
   ]
  },
  {
   "cell_type": "code",
   "execution_count": 6,
   "id": "df6b698b",
   "metadata": {},
   "outputs": [
    {
     "name": "stdout",
     "output_type": "stream",
     "text": [
      "笑/死/我/了/，/这波/操作/简直/666/！\n"
     ]
    }
   ],
   "source": [
    "text = \"笑死我了，这波操作简直666！\"\n",
    "words = jieba.cut(text)\n",
    "print(\"/\".join(words))"
   ]
  },
  {
   "cell_type": "code",
   "execution_count": 7,
   "id": "3ab87daf",
   "metadata": {},
   "outputs": [
    {
     "name": "stdout",
     "output_type": "stream",
     "text": [
      "Transformer模型/在/自然语言/处理/中/广泛应用\n"
     ]
    }
   ],
   "source": [
    "jieba.add_word(\"Transformer模型\")  # 动态添加新词\n",
    "text = \"Transformer模型在自然语言处理中广泛应用\"\n",
    "print(\"/\".join(jieba.cut(text)))"
   ]
  }
 ],
 "metadata": {
  "kernelspec": {
   "display_name": "Python 3",
   "language": "python",
   "name": "python3"
  },
  "language_info": {
   "codemirror_mode": {
    "name": "ipython",
    "version": 3
   },
   "file_extension": ".py",
   "mimetype": "text/x-python",
   "name": "python",
   "nbconvert_exporter": "python",
   "pygments_lexer": "ipython3",
   "version": "3.13.7"
  }
 },
 "nbformat": 4,
 "nbformat_minor": 5
}
