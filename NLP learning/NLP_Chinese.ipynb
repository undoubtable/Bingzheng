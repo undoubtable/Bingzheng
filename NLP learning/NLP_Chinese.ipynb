{
 "cells": [
  {
   "cell_type": "code",
   "execution_count": 9,
   "id": "25e89541",
   "metadata": {},
   "outputs": [
    {
     "name": "stdout",
     "output_type": "stream",
     "text": [
      "精确模式分词结果： ['自然语言', '处理', '是', '人工智能', '的', '重要', '方向']\n",
      "自然语言/处理/是/人工智能/的/重要/方向\n"
     ]
    }
   ],
   "source": [
    "# 基础分词示例（中文）\n",
    "import jieba\n",
    "text = \"自然语言处理是人工智能的重要方向\" \n",
    "words = list(jieba.cut(text)) # 精确模式（默认）\n",
    "print(\"精确模式分词结果：\", words) \n",
    "print(\"/\".join(words)) "
   ]
  },
  {
   "cell_type": "code",
   "execution_count": 10,
   "id": "caefb8ae",
   "metadata": {},
   "outputs": [
    {
     "name": "stdout",
     "output_type": "stream",
     "text": [
      "精确模式分词结果： ['有', '勇气', '的', '牛排', '是', '一个', '编程', '领域', '博主', '的', '名字']\n",
      "有/勇气/的/牛排/是/一个/编程/领域/博主/的/名字\n"
     ]
    }
   ],
   "source": [
    "# 精确模式分词示例（中文）\n",
    "text = \"有勇气的牛排是一个编程领域博主的名字\"\n",
    "segments = list(jieba.cut(text))  # 指定精确模式（默认），将生成器转为列表\n",
    "print(\"精确模式分词结果：\", segments)\n",
    "print(\"/\".join(segments))"
   ]
  },
  {
   "cell_type": "code",
   "execution_count": 11,
   "id": "e90dd949",
   "metadata": {},
   "outputs": [
    {
     "name": "stdout",
     "output_type": "stream",
     "text": [
      "全模式分词结果： ['有', '勇气', '的', '牛排', '是', '一个', '编程', '领域', '博', '主', '的', '名字']\n",
      "有/勇气/的/牛排/是/一个/编程/领域/博/主/的/名字\n"
     ]
    }
   ],
   "source": [
    "# 全模式分词示例（中文）\n",
    "segments = jieba.lcut(text, cut_all=True)\n",
    "print(\"全模式分词结果：\", segments)\n",
    "print(\"/\".join(segments))"
   ]
  },
  {
   "cell_type": "code",
   "execution_count": 12,
   "id": "b74b29f8",
   "metadata": {},
   "outputs": [
    {
     "name": "stdout",
     "output_type": "stream",
     "text": [
      "搜索引擎模式分词结果： ['有', '勇气', '的', '牛排', '是', '一个', '编程', '领域', '博主', '的', '名字']\n",
      "有/勇气/的/牛排/是/一个/编程/领域/博主/的/名字\n"
     ]
    }
   ],
   "source": [
    "# 搜索引擎模式分词示例（中文）\n",
    "segments = jieba.lcut_for_search(text)\n",
    "print(\"搜索引擎模式分词结果：\", segments)\n",
    "print(\"/\".join(segments))"
   ]
  },
  {
   "cell_type": "code",
   "execution_count": null,
   "id": "e366489b",
   "metadata": {},
   "outputs": [],
   "source": []
  }
 ],
 "metadata": {
  "kernelspec": {
   "display_name": "Python 3",
   "language": "python",
   "name": "python3"
  },
  "language_info": {
   "codemirror_mode": {
    "name": "ipython",
    "version": 3
   },
   "file_extension": ".py",
   "mimetype": "text/x-python",
   "name": "python",
   "nbconvert_exporter": "python",
   "pygments_lexer": "ipython3",
   "version": "3.13.7"
  }
 },
 "nbformat": 4,
 "nbformat_minor": 5
}
