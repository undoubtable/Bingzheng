{
 "cells": [
  {
   "cell_type": "code",
   "execution_count": 5,
   "id": "31f76412",
   "metadata": {},
   "outputs": [
    {
     "name": "stdout",
     "output_type": "stream",
     "text": [
      "word_tokens = ['This', 'is', 'an', 'example', 'sentence', 'to', 'generate', 'word_tokens', 'for', 'PorterStemmer', 'demo', '.']\n"
     ]
    }
   ],
   "source": [
    "import nltk\n",
    "# 确保 punkt 资源已安装\n",
    "try:\n",
    "    nltk.data.find('tokenizers/punkt')\n",
    "except LookupError:\n",
    "    print('NLTK punkt resource not found. Downloading...')\n",
    "    nltk.download('punkt', quiet=True)\n",
    "\n",
    "# 示例英文句子并生成 word_tokens\n",
    "text = 'This is an example sentence to generate word_tokens for PorterStemmer demo.'\n",
    "word_tokens = nltk.word_tokenize(text)\n",
    "print('word_tokens =', word_tokens)"
   ]
  },
  {
   "cell_type": "code",
   "execution_count": 6,
   "id": "12506ce3",
   "metadata": {},
   "outputs": [
    {
     "name": "stdout",
     "output_type": "stream",
     "text": [
      "Stemmed Words: ['thi', 'is', 'an', 'exampl', 'sentenc', 'to', 'gener', 'word_token', 'for', 'porterstemm', 'demo', '.']\n"
     ]
    }
   ],
   "source": [
    "from nltk.stem.porter import PorterStemmer\n",
    "# 确保 word_tokens 已定义（通常来自前面的分词单元）\n",
    "try:\n",
    "    word_tokens\n",
    "except NameError:\n",
    "    print('NameError: word_tokens is not defined. Run the tokenization cell first or provide a list named word_tokens.')\n",
    "else:\n",
    "    stemmer = PorterStemmer()\n",
    "    stemmed_words = [stemmer.stem(word) for word in word_tokens]\n",
    "    print(\"Stemmed Words:\", stemmed_words)"
   ]
  }
 ],
 "metadata": {
  "kernelspec": {
   "display_name": "Python 3",
   "language": "python",
   "name": "python3"
  },
  "language_info": {
   "codemirror_mode": {
    "name": "ipython",
    "version": 3
   },
   "file_extension": ".py",
   "mimetype": "text/x-python",
   "name": "python",
   "nbconvert_exporter": "python",
   "pygments_lexer": "ipython3",
   "version": "3.13.7"
  }
 },
 "nbformat": 4,
 "nbformat_minor": 5
}
