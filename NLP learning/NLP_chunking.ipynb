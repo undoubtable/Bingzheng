{
 "cells": [
  {
   "cell_type": "code",
   "execution_count": 2,
   "id": "e9e2a09b",
   "metadata": {},
   "outputs": [
    {
     "name": "stdout",
     "output_type": "stream",
     "text": [
      "['There', 'is', 'a', 'big', 'cat', 'in', 'the', 'small', 'house', '.']\n"
     ]
    }
   ],
   "source": [
    "import nltk\n",
    "from nltk.tokenize import word_tokenize\n",
    "\n",
    "lotr_quote = \"There is a big cat in the small house.\"\n",
    "words_in_lotr = word_tokenize(lotr_quote)\n",
    "print(words_in_lotr)"
   ]
  },
  {
   "cell_type": "code",
   "execution_count": 4,
   "id": "57c360c8",
   "metadata": {},
   "outputs": [
    {
     "data": {
      "text/plain": [
       "[('There', 'EX'),\n",
       " ('is', 'VBZ'),\n",
       " ('a', 'DT'),\n",
       " ('big', 'JJ'),\n",
       " ('cat', 'NN'),\n",
       " ('in', 'IN'),\n",
       " ('the', 'DT'),\n",
       " ('small', 'JJ'),\n",
       " ('house', 'NN'),\n",
       " ('.', '.')]"
      ]
     },
     "execution_count": 4,
     "metadata": {},
     "output_type": "execute_result"
    }
   ],
   "source": [
    "lotr_pos_tags = nltk.pos_tag(words_in_lotr)\n",
    "lotr_pos_tags"
   ]
  },
  {
   "cell_type": "code",
   "execution_count": 12,
   "id": "cf14e81d",
   "metadata": {},
   "outputs": [
    {
     "name": "stdout",
     "output_type": "stream",
     "text": [
      "(S\n",
      "  There/EX\n",
      "  is/VBZ\n",
      "  (NP a/DT big/JJ cat/NN)\n",
      "  in/IN\n",
      "  (NP the/DT small/JJ house/NN)\n",
      "  ./.)\n"
     ]
    }
   ],
   "source": [
    "grammar = \"NP: {<DT>?<JJ>*<NN>}\"\n",
    "chunk_parser = nltk.RegexpParser(grammar)\n",
    "chunked_lotr = chunk_parser.parse(lotr_pos_tags)\n",
    "tree = chunk_parser.parse(lotr_pos_tags)\n",
    "print(tree)"
   ]
  },
  {
   "cell_type": "code",
   "execution_count": 16,
   "id": "2a2d6348",
   "metadata": {},
   "outputs": [
    {
     "name": "stdout",
     "output_type": "stream",
     "text": [
      "Collecting svgling\n",
      "  Downloading svgling-0.5.0-py3-none-any.whl.metadata (7.4 kB)\n",
      "Collecting svgwrite (from svgling)\n",
      "  Downloading svgwrite-1.4.3-py3-none-any.whl.metadata (8.8 kB)\n",
      "Downloading svgling-0.5.0-py3-none-any.whl (31 kB)\n",
      "Downloading svgwrite-1.4.3-py3-none-any.whl (67 kB)\n",
      "Installing collected packages: svgwrite, svgling\n",
      "\n",
      "   ---------------------------------------- 0/2 [svgwrite]\n",
      "   ---------------------------------------- 0/2 [svgwrite]\n",
      "   -------------------- ------------------- 1/2 [svgling]\n",
      "   ---------------------------------------- 2/2 [svgling]\n",
      "\n",
      "Successfully installed svgling-0.5.0 svgwrite-1.4.3\n",
      "Note: you may need to restart the kernel to use updated packages.\n"
     ]
    }
   ],
   "source": [
    "%pip install svgling"
   ]
  },
  {
   "cell_type": "code",
   "execution_count": 17,
   "id": "e6b20cf7",
   "metadata": {},
   "outputs": [
    {
     "data": {
      "image/svg+xml": [
       "<svg xmlns=\"http://www.w3.org/2000/svg\" xmlns:ev=\"http://www.w3.org/2001/xml-events\" xmlns:xlink=\"http://www.w3.org/1999/xlink\" baseProfile=\"full\" height=\"168px\" preserveAspectRatio=\"xMidYMid meet\" style=\"font-family: times, serif; font-weight: normal; font-style: normal; font-size: 16px\" version=\"1.1\" viewBox=\"0,0,416.0,168.0\" width=\"416px\"><defs/><svg width=\"100%\" x=\"0\" y=\"0px\"><defs/><text text-anchor=\"middle\" x=\"50%\" y=\"16px\">S</text></svg><svg width=\"13.4615%\" x=\"0%\" y=\"48px\"><defs/><svg width=\"100%\" x=\"0\" y=\"0px\"><defs/><text text-anchor=\"middle\" x=\"50%\" y=\"16px\">There</text></svg><svg width=\"100%\" x=\"0%\" y=\"48px\"><defs/><svg width=\"100%\" x=\"0\" y=\"0px\"><defs/><text text-anchor=\"middle\" x=\"50%\" y=\"16px\">EX</text></svg></svg><line stroke=\"black\" x1=\"50%\" x2=\"50%\" y1=\"20px\" y2=\"48px\"/></svg><line stroke=\"black\" x1=\"50%\" x2=\"6.73077%\" y1=\"20px\" y2=\"48px\"/><svg width=\"9.61538%\" x=\"13.4615%\" y=\"48px\"><defs/><svg width=\"100%\" x=\"0\" y=\"0px\"><defs/><text text-anchor=\"middle\" x=\"50%\" y=\"16px\">is</text></svg><svg width=\"100%\" x=\"0%\" y=\"48px\"><defs/><svg width=\"100%\" x=\"0\" y=\"0px\"><defs/><text text-anchor=\"middle\" x=\"50%\" y=\"16px\">VBZ</text></svg></svg><line stroke=\"black\" x1=\"50%\" x2=\"50%\" y1=\"20px\" y2=\"48px\"/></svg><line stroke=\"black\" x1=\"50%\" x2=\"18.2692%\" y1=\"20px\" y2=\"48px\"/><svg width=\"26.9231%\" x=\"23.0769%\" y=\"48px\"><defs/><svg width=\"100%\" x=\"0\" y=\"0px\"><defs/><text text-anchor=\"middle\" x=\"50%\" y=\"16px\">NP</text></svg><svg width=\"28.5714%\" x=\"0%\" y=\"48px\"><defs/><svg width=\"100%\" x=\"0\" y=\"0px\"><defs/><text text-anchor=\"middle\" x=\"50%\" y=\"16px\">a</text></svg><svg width=\"100%\" x=\"0%\" y=\"48px\"><defs/><svg width=\"100%\" x=\"0\" y=\"0px\"><defs/><text text-anchor=\"middle\" x=\"50%\" y=\"16px\">DT</text></svg></svg><line stroke=\"black\" x1=\"50%\" x2=\"50%\" y1=\"20px\" y2=\"48px\"/></svg><line stroke=\"black\" x1=\"50%\" x2=\"14.2857%\" y1=\"20px\" y2=\"48px\"/><svg width=\"35.7143%\" x=\"28.5714%\" y=\"48px\"><defs/><svg width=\"100%\" x=\"0\" y=\"0px\"><defs/><text text-anchor=\"middle\" x=\"50%\" y=\"16px\">big</text></svg><svg width=\"100%\" x=\"0%\" y=\"48px\"><defs/><svg width=\"100%\" x=\"0\" y=\"0px\"><defs/><text text-anchor=\"middle\" x=\"50%\" y=\"16px\">JJ</text></svg></svg><line stroke=\"black\" x1=\"50%\" x2=\"50%\" y1=\"20px\" y2=\"48px\"/></svg><line stroke=\"black\" x1=\"50%\" x2=\"46.4286%\" y1=\"20px\" y2=\"48px\"/><svg width=\"35.7143%\" x=\"64.2857%\" y=\"48px\"><defs/><svg width=\"100%\" x=\"0\" y=\"0px\"><defs/><text text-anchor=\"middle\" x=\"50%\" y=\"16px\">cat</text></svg><svg width=\"100%\" x=\"0%\" y=\"48px\"><defs/><svg width=\"100%\" x=\"0\" y=\"0px\"><defs/><text text-anchor=\"middle\" x=\"50%\" y=\"16px\">NN</text></svg></svg><line stroke=\"black\" x1=\"50%\" x2=\"50%\" y1=\"20px\" y2=\"48px\"/></svg><line stroke=\"black\" x1=\"50%\" x2=\"82.1429%\" y1=\"20px\" y2=\"48px\"/></svg><line stroke=\"black\" x1=\"50%\" x2=\"36.5385%\" y1=\"20px\" y2=\"48px\"/><svg width=\"7.69231%\" x=\"50%\" y=\"48px\"><defs/><svg width=\"100%\" x=\"0\" y=\"0px\"><defs/><text text-anchor=\"middle\" x=\"50%\" y=\"16px\">in</text></svg><svg width=\"100%\" x=\"0%\" y=\"48px\"><defs/><svg width=\"100%\" x=\"0\" y=\"0px\"><defs/><text text-anchor=\"middle\" x=\"50%\" y=\"16px\">IN</text></svg></svg><line stroke=\"black\" x1=\"50%\" x2=\"50%\" y1=\"20px\" y2=\"48px\"/></svg><line stroke=\"black\" x1=\"50%\" x2=\"53.8462%\" y1=\"20px\" y2=\"48px\"/><svg width=\"36.5385%\" x=\"57.6923%\" y=\"48px\"><defs/><svg width=\"100%\" x=\"0\" y=\"0px\"><defs/><text text-anchor=\"middle\" x=\"50%\" y=\"16px\">NP</text></svg><svg width=\"26.3158%\" x=\"0%\" y=\"48px\"><defs/><svg width=\"100%\" x=\"0\" y=\"0px\"><defs/><text text-anchor=\"middle\" x=\"50%\" y=\"16px\">the</text></svg><svg width=\"100%\" x=\"0%\" y=\"48px\"><defs/><svg width=\"100%\" x=\"0\" y=\"0px\"><defs/><text text-anchor=\"middle\" x=\"50%\" y=\"16px\">DT</text></svg></svg><line stroke=\"black\" x1=\"50%\" x2=\"50%\" y1=\"20px\" y2=\"48px\"/></svg><line stroke=\"black\" x1=\"50%\" x2=\"13.1579%\" y1=\"20px\" y2=\"48px\"/><svg width=\"36.8421%\" x=\"26.3158%\" y=\"48px\"><defs/><svg width=\"100%\" x=\"0\" y=\"0px\"><defs/><text text-anchor=\"middle\" x=\"50%\" y=\"16px\">small</text></svg><svg width=\"100%\" x=\"0%\" y=\"48px\"><defs/><svg width=\"100%\" x=\"0\" y=\"0px\"><defs/><text text-anchor=\"middle\" x=\"50%\" y=\"16px\">JJ</text></svg></svg><line stroke=\"black\" x1=\"50%\" x2=\"50%\" y1=\"20px\" y2=\"48px\"/></svg><line stroke=\"black\" x1=\"50%\" x2=\"44.7368%\" y1=\"20px\" y2=\"48px\"/><svg width=\"36.8421%\" x=\"63.1579%\" y=\"48px\"><defs/><svg width=\"100%\" x=\"0\" y=\"0px\"><defs/><text text-anchor=\"middle\" x=\"50%\" y=\"16px\">house</text></svg><svg width=\"100%\" x=\"0%\" y=\"48px\"><defs/><svg width=\"100%\" x=\"0\" y=\"0px\"><defs/><text text-anchor=\"middle\" x=\"50%\" y=\"16px\">NN</text></svg></svg><line stroke=\"black\" x1=\"50%\" x2=\"50%\" y1=\"20px\" y2=\"48px\"/></svg><line stroke=\"black\" x1=\"50%\" x2=\"81.5789%\" y1=\"20px\" y2=\"48px\"/></svg><line stroke=\"black\" x1=\"50%\" x2=\"75.9615%\" y1=\"20px\" y2=\"48px\"/><svg width=\"5.76923%\" x=\"94.2308%\" y=\"48px\"><defs/><svg width=\"100%\" x=\"0\" y=\"0px\"><defs/><text text-anchor=\"middle\" x=\"50%\" y=\"16px\">.</text></svg><svg width=\"100%\" x=\"0%\" y=\"48px\"><defs/><svg width=\"100%\" x=\"0\" y=\"0px\"><defs/><text text-anchor=\"middle\" x=\"50%\" y=\"16px\">.</text></svg></svg><line stroke=\"black\" x1=\"50%\" x2=\"50%\" y1=\"20px\" y2=\"48px\"/></svg><line stroke=\"black\" x1=\"50%\" x2=\"97.1154%\" y1=\"20px\" y2=\"48px\"/></svg>"
      ],
      "text/plain": [
       "<IPython.core.display.SVG object>"
      ]
     },
     "metadata": {},
     "output_type": "display_data"
    }
   ],
   "source": [
    "# 在 Jupyter 中内联显示 NLTK 树（SVG）\n",
    "from IPython.display import SVG, display\n",
    "import matplotlib\n",
    "# 使用 tree.draw() 会弹出窗口，下面方法把树导出为 SVG 并内联显示\n",
    "svg = tree._repr_svg_()\n",
    "display(SVG(svg))"
   ]
  }
 ],
 "metadata": {
  "kernelspec": {
   "display_name": "Python 3",
   "language": "python",
   "name": "python3"
  },
  "language_info": {
   "codemirror_mode": {
    "name": "ipython",
    "version": 3
   },
   "file_extension": ".py",
   "mimetype": "text/x-python",
   "name": "python",
   "nbconvert_exporter": "python",
   "pygments_lexer": "ipython3",
   "version": "3.13.7"
  }
 },
 "nbformat": 4,
 "nbformat_minor": 5
}
