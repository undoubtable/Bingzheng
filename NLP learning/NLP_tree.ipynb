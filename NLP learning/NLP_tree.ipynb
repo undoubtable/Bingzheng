{
 "cells": [
  {
   "cell_type": "code",
   "execution_count": 1,
   "id": "33c595ec",
   "metadata": {},
   "outputs": [
    {
     "name": "stdout",
     "output_type": "stream",
     "text": [
      "(DT )\n",
      "(NN EX (DT ))\n"
     ]
    }
   ],
   "source": [
    "from nltk.tree import Tree\n",
    "a = Tree('DT',[])\n",
    "b = Tree('NN',['EX',a])\n",
    "print(a)\n",
    "print(b)"
   ]
  },
  {
   "cell_type": "code",
   "execution_count": 2,
   "id": "4304a8de",
   "metadata": {},
   "outputs": [
    {
     "name": "stdout",
     "output_type": "stream",
     "text": [
      "NN\n",
      "VBZ\n"
     ]
    }
   ],
   "source": [
    "print(b.label())\n",
    "b.set_label('VBZ')\n",
    "print(b.label())"
   ]
  },
  {
   "cell_type": "code",
   "execution_count": 5,
   "id": "dc6f7e44",
   "metadata": {},
   "outputs": [
    {
     "name": "stdout",
     "output_type": "stream",
     "text": [
      "EX\n",
      "(DT )\n",
      "label: DT\n"
     ]
    }
   ],
   "source": [
    "for child in b:\n",
    "    print(child)\n",
    "    if hasattr(child, \"label\"):\n",
    "        print('label: {}'.format(child.label()))"
   ]
  }
 ],
 "metadata": {
  "kernelspec": {
   "display_name": "Python 3",
   "language": "python",
   "name": "python3"
  },
  "language_info": {
   "codemirror_mode": {
    "name": "ipython",
    "version": 3
   },
   "file_extension": ".py",
   "mimetype": "text/x-python",
   "name": "python",
   "nbconvert_exporter": "python",
   "pygments_lexer": "ipython3",
   "version": "3.13.7"
  }
 },
 "nbformat": 4,
 "nbformat_minor": 5
}
