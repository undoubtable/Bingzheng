{
 "cells": [
  {
   "cell_type": "code",
   "execution_count": 10,
   "id": "69e3400b",
   "metadata": {},
   "outputs": [
    {
     "data": {
      "text/plain": [
       "[('In', 'IN'),\n",
       " ('the', 'DT'),\n",
       " ('midst', 'NN'),\n",
       " ('of', 'IN'),\n",
       " ('chaos', 'NN'),\n",
       " (',', ','),\n",
       " ('there', 'EX'),\n",
       " ('is', 'VBZ'),\n",
       " ('also', 'RB'),\n",
       " ('opportunity', 'NN'),\n",
       " ('.', '.')]"
      ]
     },
     "execution_count": 10,
     "metadata": {},
     "output_type": "execute_result"
    }
   ],
   "source": [
    "import nltk\n",
    "from nltk.tokenize import word_tokenize\n",
    "# Ensure required NLTK resources are available\n",
    "nltk.download('punkt', quiet=True)\n",
    "nltk.download('averaged_perceptron_tagger', quiet=True)\n",
    "\n",
    "saga_quote = \"In the midst of chaos, there is also opportunity.\"\n",
    "words_in_saga_quote = word_tokenize(saga_quote)\n",
    "print('words_in_saga_quote =', words_in_saga_quote)"
   ]
  },
  {
   "cell_type": "code",
   "execution_count": null,
   "id": "1f1702e8",
   "metadata": {},
   "outputs": [],
   "source": [
    "# Run POS tagging\n",
    "import nltk\n",
    "nltk.pos_tag(words_in_saga_quote)"
   ]
  },
  {
   "cell_type": "markdown",
   "id": "88e869cf",
   "metadata": {},
   "source": [
    "<div style=\"text-align:center\">\n",
    "### POS 标签（Penn Treebank）对照表\n",
    "下面列出常见标签、中文说明与示例：\n",
    "\n",
    "| 标签 | 中文说明 | 示例 |\n",
    "|---:|---|---|\n",
    "| CC | 并列连词 | and, or |\n",
    "| CD | 基数词 | 1, two |\n",
    "| DT | 限定词 | the, a |\n",
    "| EX | 存在句标记 | there |\n",
    "| FW | 外来词 | résumé |\n",
    "| IN | 介词/从属连词 | in, of, that |\n",
    "| JJ | 形容词 | big, beautiful |\n",
    "| JJR | 比较级形容词 | bigger |\n",
    "| JJS | 最高级形容词 | biggest |\n",
    "| LS | 列表项标记 | 1., a.) |\n",
    "| MD | 情态动词 | can, will |\n",
    "| NN | 名词（单数/不可数） | cat, water |\n",
    "| NNS | 名词（复数） | cats |\n",
    "| NNP | 专有名词（单数） | London |\n",
    "| NNPS | 专有名词（复数） | Beatles |\n",
    "| PDT | 前置限定词 | all, both |\n",
    "| POS | 所有格结尾 | 's |\n",
    "| PRP | 人称代词 | I, you |\n",
    "| PRP$ | 所有格代词 | my, your |\n",
    "| RB | 副词 | quickly |\n",
    "| RBR | 比较级副词 | faster |\n",
    "| RBS | 最高级副词 | fastest |\n",
    "| RP | 小品词 | up |\n",
    "| SYM | 符号 | $ |\n",
    "| TO | to（标记） | to |\n",
    "| UH | 感叹词 | oh, wow |\n",
    "| VB | 动词原形 | be, run |\n",
    "| VBD | 动词过去式 | ran |\n",
    "| VBG | 现在分词/动名词 | running |\n",
    "| VBN | 过去分词 | eaten |\n",
    "| VBP | 非3rd单数现在时 | run |\n",
    "| VBZ | 第3rd单数现在时 | runs |\n",
    "| WDT | 疑问限定词 | which |\n",
    "| WP | 疑问代词 | who, what |\n",
    "| WP$ | 所有格疑问代词 | whose |\n",
    "| WRB | 疑问副词 | where, when |\n",
    "\n",
    "</div>"
   ]
  }
 ],
 "metadata": {
  "kernelspec": {
   "display_name": "Python 3",
   "language": "python",
   "name": "python3"
  },
  "language_info": {
   "codemirror_mode": {
    "name": "ipython",
    "version": 3
   },
   "file_extension": ".py",
   "mimetype": "text/x-python",
   "name": "python",
   "nbconvert_exporter": "python",
   "pygments_lexer": "ipython3",
   "version": "3.13.7"
  }
 },
 "nbformat": 4,
 "nbformat_minor": 5
}
