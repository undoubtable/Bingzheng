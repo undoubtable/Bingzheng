{
 "cells": [
  {
   "cell_type": "code",
   "execution_count": null,
   "id": "69e3400b",
   "metadata": {},
   "outputs": [
    {
     "data": {
      "text/plain": [
       "[('In', 'IN'),\n",
       " ('the', 'DT'),\n",
       " ('midst', 'NN'),\n",
       " ('of', 'IN'),\n",
       " ('chaos', 'NN'),\n",
       " (',', ','),\n",
       " ('there', 'EX'),\n",
       " ('is', 'VBZ'),\n",
       " ('also', 'RB'),\n",
       " ('opportunity', 'NN'),\n",
       " ('.', '.')]"
      ]
     },
     "execution_count": 10,
     "metadata": {},
     "output_type": "execute_result"
    }
   ],
   "source": [
    "import nltk\n",
    "from nltk.tokenize import word_tokenize\n",
    "# Ensure required NLTK resources are available\n",
    "nltk.download('punkt', quiet=True)\n",
    "nltk.download('averaged_perceptron_tagger', quiet=True)\n",
    "\n",
    "saga_quote = \"In the midst of chaos, there is also opportunity.\"\n",
    "words_in_saga_quote = word_tokenize(saga_quote)\n",
    "print('words_in_saga_quote =', words_in_saga_quote)"
   ]
  },
  {
   "cell_type": "code",
   "execution_count": null,
   "id": "1f1702e8",
   "metadata": {},
   "outputs": [],
   "source": [
    "# Run POS tagging\n",
    "import nltk\n",
    "nltk.pos_tag(words_in_saga_quote)"
   ]
  },
  {
   "cell_type": "markdown",
   "id": "88e869cf",
   "metadata": {},
   "source": [
    "# POS 标签（Penn Treebank）对照表\n",
    "下面是常见的 Penn Treebank 词性标签及其中文说明，方便在使用 `nltk.pos_tag` 后查阅：\n",
    "\n",
    "- CC: 并列连词（coordinating conjunction，如 and, or）\n",
    "- CD: 基数词（cardinal number，如 1, two）\n",
    "- DT: 限定词（determiner，如 the, a）\n",
    "- EX: 存在句（existential there，如 there is）\n",
    "- FW: 外来词（foreign word）\n",
    "- IN: 介词或从属连词（preposition/subordinating conjunction，如 in, of, that）\n",
    "- JJ: 形容词（adjective，如 big, beautiful）\n",
    "- JJR: 比较级形容词（adjective, comparative，如 bigger）\n",
    "- JJS: 最高级形容词（adjective, superlative，如 biggest）\n",
    "- LS: 列表项标记（list item marker，如 1., a.)\n",
    "- MD: 情态动词（modal，如 can, will）\n",
    "- NN: 名词单数或不可数（noun, singular or mass）\n",
    "- NNS: 名词复数（noun plural）\n",
    "- NNP: 专有名词单数（proper noun, singular）\n",
    "- NNPS: 专有名词复数（proper noun, plural）\n",
    "- PDT: 前置限定词（predeterminer，如 all）\n",
    "- POS: 所有格结尾（possessive ending，如 's）\n",
    "- PRP: 人称代词（personal pronoun，如 I, you）\n",
    "- PRP$: 所有格代词（possessive pronoun，如 my, your）\n",
    "- RB: 副词（adverb，如 quickly）\n",
    "- RBR: 比较级副词（adverb, comparative，如 faster）\n",
    "- RBS: 最高级副词（adverb, superlative，如 fastest）\n",
    "- RP: 小品词（particle，如 up）\n",
    "- SYM: 符号（symbol）\n",
    "- TO: 表示 to（to）\n",
    "- UH: 感叹词（interjection，如 oh, wow）\n",
    "- VB: 动词原形（verb, base form）\n",
    "- VBD: 动词过去式（verb, past tense）\n",
    "- VBG: 动词现在分词/动名词（verb, gerund/present participle）\n",
    "- VBN: 动词过去分词（verb, past participle）\n",
    "- VBP: 非第三人称单数现在时动词（verb, non-3rd person singular present）\n",
    "- VBZ: 第三人称单数现在时动词（verb, 3rd person singular present）\n",
    "- WDT: 疑问限定词（wh-determiner，如 which）\n",
    "- WP: 疑问代词（wh-pronoun，如 who, what）\n",
    "- WP$: 所有格疑问代词（possessive wh-pronoun，如 whose）\n",
    "- WRB: 疑问副词（wh-adverb，如 where, when）"
   ]
  }
 ],
 "metadata": {
  "kernelspec": {
   "display_name": "Python 3",
   "language": "python",
   "name": "python3"
  },
  "language_info": {
   "codemirror_mode": {
    "name": "ipython",
    "version": 3
   },
   "file_extension": ".py",
   "mimetype": "text/x-python",
   "name": "python",
   "nbconvert_exporter": "python",
   "pygments_lexer": "ipython3",
   "version": "3.13.7"
  }
 },
 "nbformat": 4,
 "nbformat_minor": 5
}
